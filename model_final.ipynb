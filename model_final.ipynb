{
  "nbformat": 4,
  "nbformat_minor": 0,
  "metadata": {
    "colab": {
      "name": "model_final.ipynb",
      "provenance": [],
      "authorship_tag": "ABX9TyOO2NpK2k5gnnpwm+3TED/Q",
      "include_colab_link": true
    },
    "kernelspec": {
      "name": "python3",
      "display_name": "Python 3"
    },
    "language_info": {
      "name": "python"
    }
  },
  "cells": [
    {
      "cell_type": "markdown",
      "metadata": {
        "id": "view-in-github",
        "colab_type": "text"
      },
      "source": [
        "<a href=\"https://colab.research.google.com/github/erandiranthilake/CIFAR10_Image_classification/blob/main/model_final.ipynb\" target=\"_parent\"><img src=\"https://colab.research.google.com/assets/colab-badge.svg\" alt=\"Open In Colab\"/></a>"
      ]
    },
    {
      "cell_type": "code",
      "metadata": {
        "id": "QhpcGw4yW_wf"
      },
      "source": [
        ""
      ],
      "execution_count": null,
      "outputs": []
    },
    {
      "cell_type": "code",
      "metadata": {
        "id": "ezvi3Fo7MMv6"
      },
      "source": [
        ""
      ],
      "execution_count": null,
      "outputs": []
    },
    {
      "cell_type": "markdown",
      "metadata": {
        "id": "LyHhtukz0gGo"
      },
      "source": [
        "\n"
      ]
    },
    {
      "cell_type": "code",
      "metadata": {
        "id": "SlWfzvpQz907"
      },
      "source": [
        "from __future__ import absolute_import, division, print_function, unicode_literals\n",
        "\n",
        "try:\n",
        "  # %tensorflow_version only exists in Colab.\n",
        "  %tensorflow_version 2.x\n",
        "except Exception:\n",
        "  pass\n",
        "import tensorflow as tf\n",
        "\n",
        "import keras\n",
        "import numpy as np\n",
        "from keras import backend as K\n",
        "import matplotlib.pyplot as plt"
      ],
      "execution_count": 1,
      "outputs": []
    },
    {
      "cell_type": "code",
      "metadata": {
        "colab": {
          "base_uri": "https://localhost:8080/"
        },
        "id": "8vE5dzRl0Kl6",
        "outputId": "bdf45c42-39c6-4260-e16b-a8e055539398"
      },
      "source": [
        "(x_train, y_train), (x_test, y_test) = keras.datasets.cifar10.load_data()\n",
        "\n",
        "print('Train Data: ', x_train.shape, y_train.shape)\n",
        "print('Test Data: ', x_test.shape, y_test.shape)"
      ],
      "execution_count": 2,
      "outputs": [
        {
          "output_type": "stream",
          "text": [
            "Downloading data from https://www.cs.toronto.edu/~kriz/cifar-10-python.tar.gz\n",
            "170500096/170498071 [==============================] - 2s 0us/step\n",
            "Train Data:  (50000, 32, 32, 3) (50000, 1)\n",
            "Test Data:  (10000, 32, 32, 3) (10000, 1)\n"
          ],
          "name": "stdout"
        }
      ]
    },
    {
      "cell_type": "code",
      "metadata": {
        "id": "h_uZziFS3uHh"
      },
      "source": [
        "x_train, x_test = x_train / 255.0, x_test / 255.0"
      ],
      "execution_count": 3,
      "outputs": []
    },
    {
      "cell_type": "code",
      "metadata": {
        "id": "c9WwkONe4GeM"
      },
      "source": [
        "class_names = ['airplane', 'automobile', 'bird', 'cat', 'deer', 'dog', 'frog', 'horse', 'ship', 'truck']"
      ],
      "execution_count": 4,
      "outputs": []
    },
    {
      "cell_type": "code",
      "metadata": {
        "id": "HUiKzpD64dQI"
      },
      "source": [
        "model = keras.models.Sequential()\n",
        "model.add(keras.layers.Conv2D(4, (7, 7), padding='same', activation='relu', input_shape=(32, 32, 3)))\n",
        "model.add(keras.layers.MaxPooling2D((2, 2)))\n",
        "model.add(keras.layers.Conv2D(8, (7, 7), padding='same', activation='relu'))\n",
        "model.add(keras.layers.MaxPooling2D((2, 2)))\n",
        "model.add(keras.layers.Conv2D(16, (7, 7), padding='same', activation='relu'))\n",
        "model.add(keras.layers.Flatten())\n",
        "model.add(keras.layers.Dense(64, activation='relu'))\n",
        "model.add(keras.layers.Dense(10, activation='softmax'))"
      ],
      "execution_count": 5,
      "outputs": []
    },
    {
      "cell_type": "code",
      "metadata": {
        "colab": {
          "base_uri": "https://localhost:8080/"
        },
        "id": "waUr20Fv9lvN",
        "outputId": "a9015fa3-eb3f-4d1f-d609-cc81c621a3c7"
      },
      "source": [
        "model.compile(optimizer='adam', loss='sparse_categorical_crossentropy', metrics=['accuracy'])\n",
        "\n",
        "history = model.fit(x_train, y_train, epochs=10, validation_data=(x_test, y_test))\n",
        "\n",
        "test1_loss, test1_acc = model.evaluate(x_test, y_test)"
      ],
      "execution_count": 6,
      "outputs": [
        {
          "output_type": "stream",
          "text": [
            "Epoch 1/10\n",
            "1563/1563 [==============================] - 99s 63ms/step - loss: 1.8573 - accuracy: 0.3204 - val_loss: 1.4141 - val_accuracy: 0.4896\n",
            "Epoch 2/10\n",
            "1563/1563 [==============================] - 101s 65ms/step - loss: 1.3977 - accuracy: 0.4986 - val_loss: 1.2701 - val_accuracy: 0.5450\n",
            "Epoch 3/10\n",
            "1563/1563 [==============================] - 100s 64ms/step - loss: 1.2716 - accuracy: 0.5455 - val_loss: 1.3332 - val_accuracy: 0.5277\n",
            "Epoch 4/10\n",
            "1563/1563 [==============================] - 99s 63ms/step - loss: 1.1893 - accuracy: 0.5755 - val_loss: 1.2001 - val_accuracy: 0.5736\n",
            "Epoch 5/10\n",
            "1563/1563 [==============================] - 104s 67ms/step - loss: 1.1099 - accuracy: 0.6043 - val_loss: 1.2561 - val_accuracy: 0.5555\n",
            "Epoch 6/10\n",
            "1563/1563 [==============================] - 99s 64ms/step - loss: 1.0581 - accuracy: 0.6203 - val_loss: 1.2039 - val_accuracy: 0.5799\n",
            "Epoch 7/10\n",
            "1563/1563 [==============================] - 99s 63ms/step - loss: 0.9993 - accuracy: 0.6440 - val_loss: 1.1803 - val_accuracy: 0.5876\n",
            "Epoch 8/10\n",
            "1563/1563 [==============================] - 100s 64ms/step - loss: 0.9467 - accuracy: 0.6633 - val_loss: 1.1642 - val_accuracy: 0.5919\n",
            "Epoch 9/10\n",
            "1563/1563 [==============================] - 98s 62ms/step - loss: 0.9083 - accuracy: 0.6774 - val_loss: 1.2458 - val_accuracy: 0.5887\n",
            "Epoch 10/10\n",
            "1563/1563 [==============================] - 99s 63ms/step - loss: 0.8777 - accuracy: 0.6856 - val_loss: 1.2360 - val_accuracy: 0.5932\n",
            "313/313 [==============================] - 7s 21ms/step - loss: 1.2360 - accuracy: 0.5932\n"
          ],
          "name": "stdout"
        }
      ]
    },
    {
      "cell_type": "code",
      "metadata": {
        "colab": {
          "base_uri": "https://localhost:8080/"
        },
        "id": "ad_5cSwWP-cQ",
        "outputId": "b0423d9f-aca4-48c5-a63f-86251ff84eff"
      },
      "source": [
        "model = keras.models.Sequential()\n",
        "model.add(keras.layers.Conv2D(16, (3, 3), padding='same', activation='relu', input_shape=(32, 32, 3)))\n",
        "model.add(keras.layers.MaxPooling2D((2, 2)))\n",
        "model.add(keras.layers.Conv2D(32, (3, 3), padding='same', activation='relu'))\n",
        "model.add(keras.layers.MaxPooling2D((2, 2)))\n",
        "model.add(keras.layers.Conv2D(64, (3, 3), padding='same', activation='relu'))\n",
        "model.add(keras.layers.Flatten())\n",
        "model.add(keras.layers.Dense(64, activation='relu'))\n",
        "model.add(keras.layers.Dense(10, activation='softmax'))\n",
        "\n",
        "model.compile(optimizer='adam', loss='sparse_categorical_crossentropy', metrics=['accuracy'])\n",
        "\n",
        "history2 = model.fit(x_train, y_train, epochs=10, validation_data=(x_test, y_test))\n",
        "test2_loss, test2_acc = model.evaluate(x_test, y_test)"
      ],
      "execution_count": 7,
      "outputs": [
        {
          "output_type": "stream",
          "text": [
            "Epoch 1/10\n",
            "1563/1563 [==============================] - 63s 40ms/step - loss: 1.6900 - accuracy: 0.3841 - val_loss: 1.1461 - val_accuracy: 0.5933\n",
            "Epoch 2/10\n",
            "1563/1563 [==============================] - 64s 41ms/step - loss: 1.0900 - accuracy: 0.6180 - val_loss: 0.9849 - val_accuracy: 0.6510\n",
            "Epoch 3/10\n",
            "1563/1563 [==============================] - 65s 41ms/step - loss: 0.8996 - accuracy: 0.6854 - val_loss: 0.8895 - val_accuracy: 0.6891\n",
            "Epoch 4/10\n",
            "1563/1563 [==============================] - 67s 43ms/step - loss: 0.7724 - accuracy: 0.7303 - val_loss: 0.8839 - val_accuracy: 0.6933\n",
            "Epoch 5/10\n",
            "1563/1563 [==============================] - 65s 42ms/step - loss: 0.6987 - accuracy: 0.7582 - val_loss: 0.8605 - val_accuracy: 0.7043\n",
            "Epoch 6/10\n",
            "1563/1563 [==============================] - 64s 41ms/step - loss: 0.6176 - accuracy: 0.7832 - val_loss: 0.8207 - val_accuracy: 0.7239\n",
            "Epoch 7/10\n",
            "1563/1563 [==============================] - 64s 41ms/step - loss: 0.5651 - accuracy: 0.8035 - val_loss: 0.8523 - val_accuracy: 0.7217\n",
            "Epoch 8/10\n",
            "1563/1563 [==============================] - 63s 41ms/step - loss: 0.5005 - accuracy: 0.8243 - val_loss: 0.8807 - val_accuracy: 0.7162\n",
            "Epoch 9/10\n",
            "1563/1563 [==============================] - 61s 39ms/step - loss: 0.4397 - accuracy: 0.8456 - val_loss: 0.8774 - val_accuracy: 0.7277\n",
            "Epoch 10/10\n",
            "1563/1563 [==============================] - 61s 39ms/step - loss: 0.3915 - accuracy: 0.8607 - val_loss: 0.9360 - val_accuracy: 0.7160\n",
            "313/313 [==============================] - 4s 12ms/step - loss: 0.9360 - accuracy: 0.7160\n"
          ],
          "name": "stdout"
        }
      ]
    },
    {
      "cell_type": "code",
      "metadata": {
        "id": "jNyjhqtJeZ1d"
      },
      "source": [
        ""
      ],
      "execution_count": 7,
      "outputs": []
    },
    {
      "cell_type": "code",
      "metadata": {
        "colab": {
          "base_uri": "https://localhost:8080/",
          "height": 402
        },
        "id": "k6ObMIH7NIik",
        "outputId": "c286c718-1c4f-43f5-e8ef-a68eec042a6b"
      },
      "source": [
        "plt.plot(history.history['val_accuracy'], label = 'accuracy_model_1')\n",
        "plt.plot(history2.history['val_accuracy'], label = 'accuracy_model_2')\n",
        "\n",
        "plt.xlabel('Epoch')\n",
        "plt.ylabel('Accuracy')\n",
        "plt.ylim([0.5, 1])\n",
        "plt.legend(loc='upper right')\n",
        "\n",
        "\n",
        "\n",
        "print(\"\\n\\nAverage Accuracy model 1 = \", test1_acc*100,\"%\")\n",
        "print(\"Average Accuracy model 2 = \", test2_acc*100,\"%\")\n",
        "\n",
        "print(\"\\n\\n\")"
      ],
      "execution_count": 8,
      "outputs": [
        {
          "output_type": "stream",
          "text": [
            "\n",
            "\n",
            "Average Accuracy model 1 =  59.32000279426575 %\n",
            "Average Accuracy model 2 =  71.60000205039978 %\n",
            "\n",
            "\n",
            "\n"
          ],
          "name": "stdout"
        },
        {
          "output_type": "display_data",
          "data": {
            "image/png": "[encoded data removed]",
            "text/plain": [
              "<Figure size 432x288 with 1 Axes>"
            ]
          },
          "metadata": {
            "tags": [],
            "needs_background": "light"
          }
        }
      ]
    },
    {
      "cell_type": "code",
      "metadata": {
        "id": "RYfshom5OBzJ"
      },
      "source": [
        ""
      ],
      "execution_count": 8,
      "outputs": []
    }
  ]
}