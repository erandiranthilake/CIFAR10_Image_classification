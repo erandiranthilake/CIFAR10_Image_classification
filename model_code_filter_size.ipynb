{
  "nbformat": 4,
  "nbformat_minor": 0,
  "metadata": {
    "colab": {
      "name": "model_code_filter_size.ipynb",
      "provenance": [],
      "collapsed_sections": [],
      "toc_visible": true,
      "include_colab_link": true
    },
    "kernelspec": {
      "display_name": "Python 3",
      "name": "python3"
    }
  },
  "cells": [
    {
      "cell_type": "markdown",
      "metadata": {
        "id": "view-in-github",
        "colab_type": "text"
      },
      "source": [
        "<a href=\"https://colab.research.google.com/github/erandiranthilake/CIFAR10_Image_classification/blob/main/model_code_filter_size.ipynb\" target=\"_parent\"><img src=\"https://colab.research.google.com/assets/colab-badge.svg\" alt=\"Open In Colab\"/></a>"
      ]
    },
    {
      "cell_type": "markdown",
      "metadata": {
        "id": "LyHhtukz0gGo"
      },
      "source": [
        "\n"
      ]
    },
    {
      "cell_type": "code",
      "metadata": {
        "id": "SlWfzvpQz907"
      },
      "source": [
        "from __future__ import absolute_import, division, print_function, unicode_literals\n",
        "\n",
        "try:\n",
        "  # %tensorflow_version only exists in Colab.\n",
        "  %tensorflow_version 2.x\n",
        "except Exception:\n",
        "  pass\n",
        "import tensorflow as tf\n",
        "\n",
        "import keras\n",
        "import numpy as np\n",
        "from keras import backend as K\n",
        "import matplotlib.pyplot as plt"
      ],
      "execution_count": 66,
      "outputs": []
    },
    {
      "cell_type": "code",
      "metadata": {
        "colab": {
          "base_uri": "https://localhost:8080/"
        },
        "id": "8vE5dzRl0Kl6",
        "outputId": "08dfebce-6f8c-4e71-c87b-68e9379f677e"
      },
      "source": [
        "(x_train, y_train), (x_test, y_test) = keras.datasets.cifar10.load_data()\n",
        "\n",
        "print('Train Data: ', x_train.shape, y_train.shape)\n",
        "print('Test Data: ', x_test.shape, y_test.shape)"
      ],
      "execution_count": 67,
      "outputs": [
        {
          "output_type": "stream",
          "text": [
            "Train Data:  (50000, 32, 32, 3) (50000, 1)\n",
            "Test Data:  (10000, 32, 32, 3) (10000, 1)\n"
          ],
          "name": "stdout"
        }
      ]
    },
    {
      "cell_type": "code",
      "metadata": {
        "id": "h_uZziFS3uHh"
      },
      "source": [
        "x_train, x_test = x_train / 255.0, x_test / 255.0"
      ],
      "execution_count": 68,
      "outputs": []
    },
    {
      "cell_type": "code",
      "metadata": {
        "id": "c9WwkONe4GeM"
      },
      "source": [
        "class_names = ['airplane', 'automobile', 'bird', 'cat', 'deer', 'dog', 'frog', 'horse', 'ship', 'truck']"
      ],
      "execution_count": 69,
      "outputs": []
    },
    {
      "cell_type": "code",
      "metadata": {
        "id": "HUiKzpD64dQI"
      },
      "source": [
        "model = keras.models.Sequential()\n",
        "model.add(keras.layers.Conv2D(16, (7, 7), padding='same', activation='relu', input_shape=(32, 32, 3)))\n",
        "model.add(keras.layers.MaxPooling2D((2, 2)))\n",
        "model.add(keras.layers.Conv2D(32, (7, 7), padding='same', activation='relu'))\n",
        "model.add(keras.layers.MaxPooling2D((2, 2)))\n",
        "model.add(keras.layers.Conv2D(64, (7, 7), padding='same', activation='relu'))\n",
        "model.add(keras.layers.Flatten())\n",
        "model.add(keras.layers.Dense(64, activation='relu'))\n",
        "model.add(keras.layers.Dense(10, activation='softmax'))"
      ],
      "execution_count": 70,
      "outputs": []
    },
    {
      "cell_type": "code",
      "metadata": {
        "id": "1hogV_xM9he1"
      },
      "source": [
        ""
      ],
      "execution_count": 70,
      "outputs": []
    },
    {
      "cell_type": "code",
      "metadata": {
        "colab": {
          "base_uri": "https://localhost:8080/"
        },
        "id": "waUr20Fv9lvN",
        "outputId": "715696dd-59ae-4344-a652-176875013b8d"
      },
      "source": [
        "model.compile(optimizer='adam', loss='sparse_categorical_crossentropy', metrics=['accuracy'])\n",
        "\n",
        "history = model.fit(x_train, y_train, epochs=10, validation_data=(x_test, y_test))\n",
        "\n",
        "test1_loss, test1_acc = model.evaluate(x_test, y_test)"
      ],
      "execution_count": 71,
      "outputs": [
        {
          "output_type": "stream",
          "text": [
            "Epoch 1/10\n",
            "1563/1563 [==============================] - 217s 139ms/step - loss: 1.7858 - accuracy: 0.3386 - val_loss: 1.2729 - val_accuracy: 0.5491\n",
            "Epoch 2/10\n",
            "1563/1563 [==============================] - 217s 139ms/step - loss: 1.1938 - accuracy: 0.5767 - val_loss: 1.0712 - val_accuracy: 0.6230\n",
            "Epoch 3/10\n",
            "1563/1563 [==============================] - 223s 143ms/step - loss: 0.9904 - accuracy: 0.6504 - val_loss: 0.9843 - val_accuracy: 0.6531\n",
            "Epoch 4/10\n",
            "1563/1563 [==============================] - 214s 137ms/step - loss: 0.8517 - accuracy: 0.7014 - val_loss: 1.0249 - val_accuracy: 0.6467\n",
            "Epoch 5/10\n",
            "1563/1563 [==============================] - 213s 136ms/step - loss: 0.7330 - accuracy: 0.7421 - val_loss: 0.9983 - val_accuracy: 0.6597\n",
            "Epoch 6/10\n",
            "1563/1563 [==============================] - 210s 134ms/step - loss: 0.6206 - accuracy: 0.7833 - val_loss: 1.0984 - val_accuracy: 0.6529\n",
            "Epoch 7/10\n",
            "1563/1563 [==============================] - 210s 134ms/step - loss: 0.5330 - accuracy: 0.8128 - val_loss: 1.1103 - val_accuracy: 0.6594\n",
            "Epoch 8/10\n",
            "1563/1563 [==============================] - 210s 134ms/step - loss: 0.4607 - accuracy: 0.8386 - val_loss: 1.2024 - val_accuracy: 0.6585\n",
            "Epoch 9/10\n",
            "1563/1563 [==============================] - 210s 134ms/step - loss: 0.3795 - accuracy: 0.8675 - val_loss: 1.3159 - val_accuracy: 0.6521\n",
            "Epoch 10/10\n",
            "1563/1563 [==============================] - 210s 134ms/step - loss: 0.3220 - accuracy: 0.8879 - val_loss: 1.4573 - val_accuracy: 0.6469\n",
            "313/313 [==============================] - 11s 35ms/step - loss: 1.4573 - accuracy: 0.6469\n"
          ],
          "name": "stdout"
        }
      ]
    },
    {
      "cell_type": "code",
      "metadata": {
        "colab": {
          "base_uri": "https://localhost:8080/"
        },
        "id": "ad_5cSwWP-cQ",
        "outputId": "46fcec3d-6aa5-4b30-f9ae-b873b517247f"
      },
      "source": [
        "model = keras.models.Sequential()\n",
        "model.add(keras.layers.Conv2D(16, (5, 5), padding='same', activation='relu', input_shape=(32, 32, 3)))\n",
        "model.add(keras.layers.MaxPooling2D((2, 2)))\n",
        "model.add(keras.layers.Conv2D(32, (5, 5), padding='same', activation='relu'))\n",
        "model.add(keras.layers.MaxPooling2D((2, 2)))\n",
        "model.add(keras.layers.Conv2D(64, (5, 5), padding='same', activation='relu'))\n",
        "model.add(keras.layers.Flatten())\n",
        "model.add(keras.layers.Dense(64, activation='relu'))\n",
        "model.add(keras.layers.Dense(10, activation='softmax'))\n",
        "\n",
        "model.compile(optimizer='adam', loss='sparse_categorical_crossentropy', metrics=['accuracy'])\n",
        "\n",
        "history2 = model.fit(x_train, y_train, epochs=10, validation_data=(x_test, y_test))\n",
        "test2_loss, test2_acc = model.evaluate(x_test, y_test)"
      ],
      "execution_count": 72,
      "outputs": [
        {
          "output_type": "stream",
          "text": [
            "Epoch 1/10\n",
            "1563/1563 [==============================] - 123s 78ms/step - loss: 1.7284 - accuracy: 0.3631 - val_loss: 1.1717 - val_accuracy: 0.5867\n",
            "Epoch 2/10\n",
            "1563/1563 [==============================] - 125s 80ms/step - loss: 1.1050 - accuracy: 0.6081 - val_loss: 0.9882 - val_accuracy: 0.6563\n",
            "Epoch 3/10\n",
            "1563/1563 [==============================] - 127s 81ms/step - loss: 0.8963 - accuracy: 0.6890 - val_loss: 0.9128 - val_accuracy: 0.6822\n",
            "Epoch 4/10\n",
            "1563/1563 [==============================] - 128s 82ms/step - loss: 0.7624 - accuracy: 0.7347 - val_loss: 0.8935 - val_accuracy: 0.6921\n",
            "Epoch 5/10\n",
            "1563/1563 [==============================] - 126s 81ms/step - loss: 0.6545 - accuracy: 0.7763 - val_loss: 0.9076 - val_accuracy: 0.7024\n",
            "Epoch 6/10\n",
            "1563/1563 [==============================] - 126s 81ms/step - loss: 0.5716 - accuracy: 0.7981 - val_loss: 0.9435 - val_accuracy: 0.6937\n",
            "Epoch 7/10\n",
            "1563/1563 [==============================] - 126s 81ms/step - loss: 0.4840 - accuracy: 0.8301 - val_loss: 0.9475 - val_accuracy: 0.7038\n",
            "Epoch 8/10\n",
            "1563/1563 [==============================] - 126s 81ms/step - loss: 0.4053 - accuracy: 0.8590 - val_loss: 1.0869 - val_accuracy: 0.6844\n",
            "Epoch 9/10\n",
            "1563/1563 [==============================] - 127s 81ms/step - loss: 0.3516 - accuracy: 0.8754 - val_loss: 1.0481 - val_accuracy: 0.6909\n",
            "Epoch 10/10\n",
            "1563/1563 [==============================] - 127s 81ms/step - loss: 0.2996 - accuracy: 0.8930 - val_loss: 1.1918 - val_accuracy: 0.6980\n",
            "313/313 [==============================] - 7s 23ms/step - loss: 1.1918 - accuracy: 0.6980\n"
          ],
          "name": "stdout"
        }
      ]
    },
    {
      "cell_type": "code",
      "metadata": {
        "id": "jNyjhqtJeZ1d"
      },
      "source": [
        "model = keras.models.Sequential()\n",
        "model.add(keras.layers.Conv2D(16, (3, 3), padding='same', activation='relu', input_shape=(32, 32, 3)))\n",
        "model.add(keras.layers.MaxPooling2D((2, 2)))\n",
        "model.add(keras.layers.Conv2D(32, (3, 3), padding='same', activation='relu'))\n",
        "model.add(keras.layers.MaxPooling2D((2, 2)))\n",
        "model.add(keras.layers.Conv2D(64, (3, 3), padding='same', activation='relu'))\n",
        "model.add(keras.layers.Flatten())\n",
        "model.add(keras.layers.Dense(64, activation='relu'))\n",
        "model.add(keras.layers.Dense(10, activation='softmax'))\n",
        "\n",
        "model.compile(optimizer='adam', loss='sparse_categorical_crossentropy', metrics=['accuracy'])\n",
        "\n",
        "history3 = model.fit(x_train, y_train, epochs=10, validation_data=(x_test, y_test))\n",
        "test3_loss, test3_acc = model.evaluate(x_test, y_test)"
      ],
      "execution_count": null,
      "outputs": []
    },
    {
      "cell_type": "code",
      "metadata": {
        "colab": {
          "base_uri": "https://localhost:8080/",
          "height": 419
        },
        "id": "k6ObMIH7NIik",
        "outputId": "81e812af-9a8a-469c-e96e-67d737785098"
      },
      "source": [
        "plt.plot(history.history['val_accuracy'], label = 'accuracy_model_1')\n",
        "plt.plot(history2.history['val_accuracy'], label = 'accuracy_model_2')\n",
        "plt.plot(history3.history['val_accuracy'], label = 'accuracy_model_3')\n",
        "plt.xlabel('Epoch')\n",
        "plt.ylabel('Accuracy')\n",
        "plt.ylim([0.5, 1])\n",
        "plt.legend(loc='upper right')\n",
        "\n",
        "\n",
        "\n",
        "print(\"\\n\\nAverage Accuracy model 1 = \", test1_acc*100,\"%\")\n",
        "print(\"Average Accuracy model 2 = \", test2_acc*100,\"%\")\n",
        "print(\"Average Accuracy model 3 = \", test3_acc*100,\"%\")\n",
        "print(\"\\n\\n\")"
      ],
      "execution_count": 74,
      "outputs": [
        {
          "output_type": "stream",
          "text": [
            "\n",
            "\n",
            "Average Accuracy model 1 =  64.68999981880188 %\n",
            "Average Accuracy model 2 =  69.80000138282776 %\n",
            "Average Accuracy model 3 =  71.7199981212616 %\n",
            "\n",
            "\n",
            "\n"
          ],
          "name": "stdout"
        },
        {
          "output_type": "display_data",
          "data": {
            "image/png": "[encoded data removed]",
            "text/plain": [
              "<Figure size 432x288 with 1 Axes>"
            ]
          },
          "metadata": {
            "tags": [],
            "needs_background": "light"
          }
        }
      ]
    },
    {
      "cell_type": "code",
      "metadata": {
        "id": "RYfshom5OBzJ"
      },
      "source": [
        ""
      ],
      "execution_count": 74,
      "outputs": []
    }
  ]
}