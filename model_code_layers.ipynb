{
  "nbformat": 4,
  "nbformat_minor": 0,
  "metadata": {
    "colab": {
      "name": "model_code_layers.ipynb",
      "provenance": [],
      "authorship_tag": "ABX9TyOJs486gnAl1My5XDU3ospq",
      "include_colab_link": true
    },
    "kernelspec": {
      "name": "python3",
      "display_name": "Python 3"
    },
    "language_info": {
      "name": "python"
    }
  },
  "cells": [
    {
      "cell_type": "markdown",
      "metadata": {
        "id": "view-in-github",
        "colab_type": "text"
      },
      "source": [
        "<a href=\"https://colab.research.google.com/github/erandiranthilake/CIFAR10_Image_classification/blob/main/model_code_layers.ipynb\" target=\"_parent\"><img src=\"https://colab.research.google.com/assets/colab-badge.svg\" alt=\"Open In Colab\"/></a>"
      ]
    },
    {
      "cell_type": "code",
      "metadata": {
        "id": "ezvi3Fo7MMv6"
      },
      "source": [
        ""
      ],
      "execution_count": 6,
      "outputs": []
    },
    {
      "cell_type": "markdown",
      "metadata": {
        "id": "LyHhtukz0gGo"
      },
      "source": [
        "\n"
      ]
    },
    {
      "cell_type": "code",
      "metadata": {
        "id": "SlWfzvpQz907"
      },
      "source": [
        "from __future__ import absolute_import, division, print_function, unicode_literals\n",
        "\n",
        "try:\n",
        "  # %tensorflow_version only exists in Colab.\n",
        "  %tensorflow_version 2.x\n",
        "except Exception:\n",
        "  pass\n",
        "import tensorflow as tf\n",
        "\n",
        "import keras\n",
        "import numpy as np\n",
        "from keras import backend as K\n",
        "import matplotlib.pyplot as plt"
      ],
      "execution_count": 7,
      "outputs": []
    },
    {
      "cell_type": "code",
      "metadata": {
        "colab": {
          "base_uri": "https://localhost:8080/"
        },
        "id": "8vE5dzRl0Kl6",
        "outputId": "356b82e4-44a9-4990-a5f1-29378f6d6800"
      },
      "source": [
        "(x_train, y_train), (x_test, y_test) = keras.datasets.cifar10.load_data()\n",
        "\n",
        "print('Train Data: ', x_train.shape, y_train.shape)\n",
        "print('Test Data: ', x_test.shape, y_test.shape)"
      ],
      "execution_count": 8,
      "outputs": [
        {
          "output_type": "stream",
          "text": [
            "Train Data:  (50000, 32, 32, 3) (50000, 1)\n",
            "Test Data:  (10000, 32, 32, 3) (10000, 1)\n"
          ],
          "name": "stdout"
        }
      ]
    },
    {
      "cell_type": "code",
      "metadata": {
        "id": "h_uZziFS3uHh"
      },
      "source": [
        "x_train, x_test = x_train / 255.0, x_test / 255.0"
      ],
      "execution_count": 9,
      "outputs": []
    },
    {
      "cell_type": "code",
      "metadata": {
        "id": "c9WwkONe4GeM"
      },
      "source": [
        "class_names = ['airplane', 'automobile', 'bird', 'cat', 'deer', 'dog', 'frog', 'horse', 'ship', 'truck']"
      ],
      "execution_count": 10,
      "outputs": []
    },
    {
      "cell_type": "code",
      "metadata": {
        "id": "HUiKzpD64dQI"
      },
      "source": [
        "model = keras.models.Sequential()\n",
        "model.add(keras.layers.Conv2D(16, (3, 3), padding='same', activation='relu', input_shape=(32, 32, 3)))\n",
        "model.add(keras.layers.MaxPooling2D((2, 2)))\n",
        "model.add(keras.layers.Conv2D(32, (3, 3), padding='same', activation='relu'))\n",
        "model.add(keras.layers.Flatten())\n",
        "model.add(keras.layers.Dense(64, activation='relu'))\n",
        "model.add(keras.layers.Dense(10, activation='softmax'))"
      ],
      "execution_count": 11,
      "outputs": []
    },
    {
      "cell_type": "code",
      "metadata": {
        "colab": {
          "base_uri": "https://localhost:8080/"
        },
        "id": "waUr20Fv9lvN",
        "outputId": "10a93cf9-2cf1-4d4c-cee5-abe0306bde7d"
      },
      "source": [
        "model.compile(optimizer='adam', loss='sparse_categorical_crossentropy', metrics=['accuracy'])\n",
        "\n",
        "history = model.fit(x_train, y_train, epochs=10, validation_data=(x_test, y_test))\n",
        "\n",
        "test1_loss, test1_acc = model.evaluate(x_test, y_test)"
      ],
      "execution_count": 12,
      "outputs": [
        {
          "output_type": "stream",
          "text": [
            "Epoch 1/10\n",
            "1563/1563 [==============================] - 53s 34ms/step - loss: 1.6420 - accuracy: 0.4120 - val_loss: 1.2054 - val_accuracy: 0.5661\n",
            "Epoch 2/10\n",
            "1563/1563 [==============================] - 52s 33ms/step - loss: 1.1219 - accuracy: 0.6077 - val_loss: 1.0441 - val_accuracy: 0.6324\n",
            "Epoch 3/10\n",
            "1563/1563 [==============================] - 51s 33ms/step - loss: 0.9670 - accuracy: 0.6600 - val_loss: 1.0370 - val_accuracy: 0.6391\n",
            "Epoch 4/10\n",
            "1563/1563 [==============================] - 51s 33ms/step - loss: 0.8732 - accuracy: 0.6944 - val_loss: 0.9778 - val_accuracy: 0.6623\n",
            "Epoch 5/10\n",
            "1563/1563 [==============================] - 52s 33ms/step - loss: 0.7733 - accuracy: 0.7296 - val_loss: 0.9506 - val_accuracy: 0.6751\n",
            "Epoch 6/10\n",
            "1563/1563 [==============================] - 52s 33ms/step - loss: 0.6918 - accuracy: 0.7567 - val_loss: 0.9861 - val_accuracy: 0.6647\n",
            "Epoch 7/10\n",
            "1563/1563 [==============================] - 51s 33ms/step - loss: 0.6357 - accuracy: 0.7779 - val_loss: 0.9871 - val_accuracy: 0.6737\n",
            "Epoch 8/10\n",
            "1563/1563 [==============================] - 54s 34ms/step - loss: 0.5596 - accuracy: 0.8031 - val_loss: 1.0386 - val_accuracy: 0.6647\n",
            "Epoch 9/10\n",
            "1563/1563 [==============================] - 53s 34ms/step - loss: 0.4973 - accuracy: 0.8270 - val_loss: 1.0562 - val_accuracy: 0.6760\n",
            "Epoch 10/10\n",
            "1563/1563 [==============================] - 53s 34ms/step - loss: 0.4470 - accuracy: 0.8434 - val_loss: 1.1575 - val_accuracy: 0.6571\n",
            "313/313 [==============================] - 3s 11ms/step - loss: 1.1575 - accuracy: 0.6571\n"
          ],
          "name": "stdout"
        }
      ]
    },
    {
      "cell_type": "code",
      "metadata": {
        "colab": {
          "base_uri": "https://localhost:8080/"
        },
        "id": "ad_5cSwWP-cQ",
        "outputId": "742ac42c-158f-4ea2-fe6e-ce6418d34a57"
      },
      "source": [
        "model = keras.models.Sequential()\n",
        "model.add(keras.layers.Conv2D(16, (3, 3), padding='same', activation='relu', input_shape=(32, 32, 3)))\n",
        "model.add(keras.layers.MaxPooling2D((2, 2)))\n",
        "model.add(keras.layers.Conv2D(32, (3, 3), padding='same', activation='relu'))\n",
        "model.add(keras.layers.MaxPooling2D((2, 2)))\n",
        "model.add(keras.layers.Conv2D(32, (3, 3), padding='same', activation='relu'))\n",
        "model.add(keras.layers.MaxPooling2D((2, 2)))\n",
        "model.add(keras.layers.Conv2D(64, (3, 3), padding='same', activation='relu'))\n",
        "model.add(keras.layers.Flatten())\n",
        "model.add(keras.layers.Dense(64, activation='relu'))\n",
        "model.add(keras.layers.Dense(10, activation='softmax'))\n",
        "\n",
        "model.compile(optimizer='adam', loss='sparse_categorical_crossentropy', metrics=['accuracy'])\n",
        "\n",
        "history2 = model.fit(x_train, y_train, epochs=10, validation_data=(x_test, y_test))\n",
        "test2_loss, test2_acc = model.evaluate(x_test, y_test)"
      ],
      "execution_count": 13,
      "outputs": [
        {
          "output_type": "stream",
          "text": [
            "Epoch 1/10\n",
            "1563/1563 [==============================] - 61s 38ms/step - loss: 1.7131 - accuracy: 0.3653 - val_loss: 1.2574 - val_accuracy: 0.5480\n",
            "Epoch 2/10\n",
            "1563/1563 [==============================] - 72s 46ms/step - loss: 1.1836 - accuracy: 0.5750 - val_loss: 1.0830 - val_accuracy: 0.6151\n",
            "Epoch 3/10\n",
            "1563/1563 [==============================] - 73s 47ms/step - loss: 1.0010 - accuracy: 0.6442 - val_loss: 1.0805 - val_accuracy: 0.6193\n",
            "Epoch 4/10\n",
            "1563/1563 [==============================] - 60s 39ms/step - loss: 0.8863 - accuracy: 0.6873 - val_loss: 0.9352 - val_accuracy: 0.6761\n",
            "Epoch 5/10\n",
            "1563/1563 [==============================] - 62s 40ms/step - loss: 0.8022 - accuracy: 0.7194 - val_loss: 0.9237 - val_accuracy: 0.6834\n",
            "Epoch 6/10\n",
            "1563/1563 [==============================] - 62s 40ms/step - loss: 0.7251 - accuracy: 0.7445 - val_loss: 0.8763 - val_accuracy: 0.6928\n",
            "Epoch 7/10\n",
            "1563/1563 [==============================] - 60s 39ms/step - loss: 0.6680 - accuracy: 0.7656 - val_loss: 0.8592 - val_accuracy: 0.7026\n",
            "Epoch 8/10\n",
            "1563/1563 [==============================] - 60s 38ms/step - loss: 0.6193 - accuracy: 0.7822 - val_loss: 0.9009 - val_accuracy: 0.7024\n",
            "Epoch 9/10\n",
            "1563/1563 [==============================] - 60s 39ms/step - loss: 0.5749 - accuracy: 0.7977 - val_loss: 0.9176 - val_accuracy: 0.6927\n",
            "Epoch 10/10\n",
            "1563/1563 [==============================] - 60s 38ms/step - loss: 0.5353 - accuracy: 0.8116 - val_loss: 0.9061 - val_accuracy: 0.6963\n",
            "313/313 [==============================] - 4s 12ms/step - loss: 0.9061 - accuracy: 0.6963\n"
          ],
          "name": "stdout"
        }
      ]
    },
    {
      "cell_type": "code",
      "metadata": {
        "id": "jNyjhqtJeZ1d",
        "colab": {
          "base_uri": "https://localhost:8080/"
        },
        "outputId": "fbfeb6b6-88bb-468f-c25f-3ed93a183705"
      },
      "source": [
        "model = keras.models.Sequential()\n",
        "model.add(keras.layers.Conv2D(16, (3, 3), padding='same', activation='relu', input_shape=(32, 32, 3)))\n",
        "model.add(keras.layers.MaxPooling2D((2, 2)))\n",
        "model.add(keras.layers.Conv2D(32, (3, 3), padding='same', activation='relu'))\n",
        "model.add(keras.layers.MaxPooling2D((2, 2)))\n",
        "model.add(keras.layers.Conv2D(32, (3, 3), padding='same', activation='relu'))\n",
        "model.add(keras.layers.MaxPooling2D((2, 2)))\n",
        "model.add(keras.layers.Conv2D(32, (3, 3), padding='same', activation='relu'))\n",
        "model.add(keras.layers.MaxPooling2D((2, 2)))\n",
        "model.add(keras.layers.Conv2D(32, (3, 3), padding='same', activation='relu'))\n",
        "model.add(keras.layers.MaxPooling2D((2, 2)))\n",
        "model.add(keras.layers.Conv2D(64, (3, 3), padding='same', activation='relu'))\n",
        "model.add(keras.layers.Flatten())\n",
        "model.add(keras.layers.Dense(64, activation='relu'))\n",
        "model.add(keras.layers.Dense(10, activation='softmax'))\n",
        "\n",
        "model.compile(optimizer='adam', loss='sparse_categorical_crossentropy', metrics=['accuracy'])\n",
        "\n",
        "history3 = model.fit(x_train, y_train, epochs=10, validation_data=(x_test, y_test))\n",
        "test3_loss, test3_acc = model.evaluate(x_test, y_test)"
      ],
      "execution_count": 14,
      "outputs": [
        {
          "output_type": "stream",
          "text": [
            "Epoch 1/10\n",
            "1563/1563 [==============================] - 62s 39ms/step - loss: 1.9021 - accuracy: 0.2823 - val_loss: 1.4669 - val_accuracy: 0.4623\n",
            "Epoch 2/10\n",
            "1563/1563 [==============================] - 61s 39ms/step - loss: 1.3591 - accuracy: 0.5015 - val_loss: 1.2009 - val_accuracy: 0.5597\n",
            "Epoch 3/10\n",
            "1563/1563 [==============================] - 60s 38ms/step - loss: 1.1862 - accuracy: 0.5674 - val_loss: 1.2138 - val_accuracy: 0.5684\n",
            "Epoch 4/10\n",
            "1563/1563 [==============================] - 60s 38ms/step - loss: 1.0848 - accuracy: 0.6044 - val_loss: 1.0429 - val_accuracy: 0.6285\n",
            "Epoch 5/10\n",
            "1563/1563 [==============================] - 59s 38ms/step - loss: 0.9893 - accuracy: 0.6445 - val_loss: 1.0218 - val_accuracy: 0.6363\n",
            "Epoch 6/10\n",
            "1563/1563 [==============================] - 60s 38ms/step - loss: 0.9154 - accuracy: 0.6714 - val_loss: 0.9669 - val_accuracy: 0.6609\n",
            "Epoch 7/10\n",
            "1563/1563 [==============================] - 63s 40ms/step - loss: 0.8657 - accuracy: 0.6908 - val_loss: 0.9701 - val_accuracy: 0.6598\n",
            "Epoch 8/10\n",
            "1563/1563 [==============================] - 63s 41ms/step - loss: 0.8255 - accuracy: 0.7072 - val_loss: 0.9056 - val_accuracy: 0.6819\n",
            "Epoch 9/10\n",
            "1563/1563 [==============================] - 62s 40ms/step - loss: 0.7645 - accuracy: 0.7310 - val_loss: 0.9719 - val_accuracy: 0.6695\n",
            "Epoch 10/10\n",
            "1563/1563 [==============================] - 64s 41ms/step - loss: 0.7437 - accuracy: 0.7385 - val_loss: 0.8977 - val_accuracy: 0.6873\n",
            "313/313 [==============================] - 4s 13ms/step - loss: 0.8977 - accuracy: 0.6873\n"
          ],
          "name": "stdout"
        }
      ]
    },
    {
      "cell_type": "code",
      "metadata": {
        "colab": {
          "base_uri": "https://localhost:8080/",
          "height": 419
        },
        "id": "k6ObMIH7NIik",
        "outputId": "fefb8072-2540-4999-c7f1-341b600f2271"
      },
      "source": [
        "plt.plot(history.history['val_accuracy'], label = 'accuracy_model_1')\n",
        "plt.plot(history2.history['val_accuracy'], label = 'accuracy_model_2')\n",
        "plt.plot(history3.history['val_accuracy'], label = 'accuracy_model_3')\n",
        "plt.xlabel('Epoch')\n",
        "plt.ylabel('Accuracy')\n",
        "plt.ylim([0.5, 1])\n",
        "plt.legend(loc='upper right')\n",
        "\n",
        "\n",
        "\n",
        "print(\"\\n\\nAverage Accuracy model 1 = \", test1_acc*100,\"%\")\n",
        "print(\"Average Accuracy model 2 = \", test2_acc*100,\"%\")\n",
        "print(\"Average Accuracy model 3 = \", test3_acc*100,\"%\")\n",
        "print(\"\\n\\n\")"
      ],
      "execution_count": 15,
      "outputs": [
        {
          "output_type": "stream",
          "text": [
            "\n",
            "\n",
            "Average Accuracy model 1 =  65.71000218391418 %\n",
            "Average Accuracy model 2 =  69.63000297546387 %\n",
            "Average Accuracy model 3 =  68.73000264167786 %\n",
            "\n",
            "\n",
            "\n"
          ],
          "name": "stdout"
        },
        {
          "output_type": "display_data",
          "data": {
            "image/png": "[encoded data removed]",
            "text/plain": [
              "<Figure size 432x288 with 1 Axes>"
            ]
          },
          "metadata": {
            "tags": [],
            "needs_background": "light"
          }
        }
      ]
    },
    {
      "cell_type": "code",
      "metadata": {
        "id": "RYfshom5OBzJ"
      },
      "source": [
        ""
      ],
      "execution_count": 15,
      "outputs": []
    }
  ]
}